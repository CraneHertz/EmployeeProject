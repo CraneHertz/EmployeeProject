{
 "cells": [
  {
   "cell_type": "markdown",
   "source": [
    "# Project - Week 4\n",
    "## Work Plan\n",
    "### 1. Systematic Study and Practice of Machine Learning\n",
    "\n",
    "### 2. Application to Thesis: Further Dataset Optimization\n",
    "\n",
    "### 3. Data Cleaning and Feature Engineering\n",
    "\n",
    "### 4. Organization and Documentation with Graphics and Annotations\n"
   ],
   "metadata": {
    "collapsed": false
   },
   "id": "bcf062ca5e9af550"
  },
  {
   "cell_type": "code",
   "source": [
    "import pandas as pd\n",
    "df = pd.read_excel(\"Data_4.xlsx\")\n",
    "selected_columns = [ 'EmpDepartment' ,  'EmpEducationLevel', 'EmpEnvironmentSatisfaction', 'EmpHourlyRate', 'EmpJobInvolvement',  'EmpJobLevel', 'EmpJobSatisfaction', 'OverTime', 'EmpRelationshipSatisfaction','EmpWorkLifeBalance','Attrition']\n",
    "df_selected = df[selected_columns]\n",
    "df_selected.to_excel('processed_data.xlsx', index=False)"
   ],
   "metadata": {
    "collapsed": false,
    "ExecuteTime": {
     "end_time": "2024-10-27T14:21:34.049898Z",
     "start_time": "2024-10-27T14:21:33.798518Z"
    }
   },
   "id": "44277ccb30ab0386",
   "outputs": [],
   "execution_count": 210
  },
  {
   "cell_type": "markdown",
   "source": [
    "### Perform column extraction on the dataset."
   ],
   "metadata": {
    "collapsed": false
   },
   "id": "c0f7256d2fbc5cbc"
  },
  {
   "cell_type": "code",
   "source": [
    "missing_values = df_selected.isnull().sum()\n",
    "print(missing_values)"
   ],
   "metadata": {
    "collapsed": false,
    "ExecuteTime": {
     "end_time": "2024-10-27T14:21:35.607112Z",
     "start_time": "2024-10-27T14:21:35.594768Z"
    }
   },
   "id": "6a3b0c20a2a47b42",
   "outputs": [
    {
     "name": "stdout",
     "output_type": "stream",
     "text": [
      "EmpDepartment                  0\n",
      "EmpEducationLevel              0\n",
      "EmpEnvironmentSatisfaction     0\n",
      "EmpHourlyRate                  0\n",
      "EmpJobInvolvement              0\n",
      "EmpJobLevel                    0\n",
      "EmpJobSatisfaction             0\n",
      "OverTime                       0\n",
      "EmpRelationshipSatisfaction    0\n",
      "EmpWorkLifeBalance             0\n",
      "Attrition                      0\n",
      "dtype: int64\n"
     ]
    }
   ],
   "execution_count": 211
  },
  {
   "cell_type": "markdown",
   "source": [
    "### Check for missing values in each column."
   ],
   "metadata": {
    "collapsed": false
   },
   "id": "2cfe73f914f87b0f"
  },
  {
   "cell_type": "code",
   "source": [
    "# Define the names of the competence rating columns.\n",
    "comp_columns = ['EmpEducationLevel', 'EmpEnvironmentSatisfaction', 'EmpHourlyRate', 'EmpJobInvolvement',  'EmpJobLevel', 'EmpJobSatisfaction', 'OverTime', 'EmpRelationshipSatisfaction','EmpWorkLifeBalance','Attrition']\n",
    "\n",
    "# Iterate through these columns to check for anomalies.\n",
    "for column in comp_columns:\n",
    "    if column in df_selected.columns: \n",
    "        outliers = df_selected[~df_selected[column].isin([1, 2, 3, 4])]\n",
    "        if not outliers.empty:\n",
    "            print(f\"Anomalies in column '{column}':\")\n",
    "            print(outliers)"
   ],
   "metadata": {
    "collapsed": false,
    "ExecuteTime": {
     "end_time": "2024-10-27T14:21:37.377379Z",
     "start_time": "2024-10-27T14:21:37.365702Z"
    }
   },
   "id": "df8cb03f798a24ae",
   "outputs": [
    {
     "name": "stdout",
     "output_type": "stream",
     "text": [
      "Anomalies in column 'EmpEducationLevel':\n",
      "               EmpDepartment  EmpEducationLevel  EmpEnvironmentSatisfaction  \\\n",
      "12                     Sales                  5                           3   \n",
      "24               Development                  5                           2   \n",
      "140                    Sales                  5                           1   \n",
      "198   Research & Development                  5                           4   \n",
      "209   Research & Development                  5                           1   \n",
      "284          Human Resources                  5                           4   \n",
      "290   Research & Development                  5                           1   \n",
      "392   Research & Development                  5                           1   \n",
      "403   Research & Development                  5                           2   \n",
      "407   Research & Development                  5                           3   \n",
      "421                    Sales                  5                           1   \n",
      "441   Research & Development                  5                           4   \n",
      "450   Research & Development                  5                           3   \n",
      "471   Research & Development                  5                           3   \n",
      "475                    Sales                  5                           3   \n",
      "490                  Finance                  5                           2   \n",
      "494                  Finance                  5                           3   \n",
      "501                  Finance                  5                           2   \n",
      "513          Human Resources                  5                           1   \n",
      "521                  Finance                  5                           4   \n",
      "528                  Finance                  5                           2   \n",
      "566                    Sales                  5                           2   \n",
      "625          Human Resources                  5                           4   \n",
      "676                    Sales                  5                           4   \n",
      "806                    Sales                  5                           2   \n",
      "810                    Sales                  5                           2   \n",
      "815              Development                  5                           4   \n",
      "881              Development                  5                           4   \n",
      "886                    Sales                  5                           3   \n",
      "902              Development                  5                           3   \n",
      "939              Development                  5                           4   \n",
      "1039            Data Science                  5                           4   \n",
      "1054             Development                  5                           1   \n",
      "1060                   Sales                  5                           4   \n",
      "1092             Development                  5                           2   \n",
      "1113             Development                  5                           3   \n",
      "1134                   Sales                  5                           2   \n",
      "1135                   Sales                  5                           1   \n",
      "1142             Development                  5                           1   \n",
      "1152                   Sales                  5                           2   \n",
      "1171             Development                  5                           4   \n",
      "1181             Development                  5                           2   \n",
      "\n",
      "      EmpHourlyRate  EmpJobInvolvement  EmpJobLevel  EmpJobSatisfaction  \\\n",
      "12                4                  3            2                   4   \n",
      "24                2                  3            2                   1   \n",
      "140               2                  4            3                   3   \n",
      "198               3                  2            3                   4   \n",
      "209               4                  1            1                   3   \n",
      "284               4                  4            2                   1   \n",
      "290               3                  3            3                   1   \n",
      "392               4                  3            4                   2   \n",
      "403               4                  4            1                   3   \n",
      "407               4                  4            3                   2   \n",
      "421               4                  3            2                   3   \n",
      "441               3                  3            2                   3   \n",
      "450               4                  1            4                   4   \n",
      "471               4                  2            3                   4   \n",
      "475               3                  2            5                   4   \n",
      "490               2                  3            4                   3   \n",
      "494               2                  1            2                   1   \n",
      "501               2                  4            2                   1   \n",
      "513               2                  3            2                   4   \n",
      "521               2                  2            3                   1   \n",
      "528               4                  3            4                   3   \n",
      "566               4                  2            2                   1   \n",
      "625               4                  4            1                   1   \n",
      "676               4                  2            2                   1   \n",
      "806               3                  3            2                   1   \n",
      "810               3                  3            3                   1   \n",
      "815               2                  3            2                   4   \n",
      "881               2                  3            2                   3   \n",
      "886               4                  3            3                   2   \n",
      "902               2                  3            1                   3   \n",
      "939               3                  2            2                   4   \n",
      "1039              2                  3            5                   3   \n",
      "1054              2                  3            4                   4   \n",
      "1060              2                  3            2                   4   \n",
      "1092              3                  3            2                   3   \n",
      "1113              3                  2            1                   2   \n",
      "1134              2                  3            2                   4   \n",
      "1135              4                  3            4                   2   \n",
      "1142              4                  4            4                   3   \n",
      "1152              4                  3            4                   1   \n",
      "1171              3                  3            2                   3   \n",
      "1181              2                  3            1                   4   \n",
      "\n",
      "      OverTime  EmpRelationshipSatisfaction  EmpWorkLifeBalance  Attrition  \n",
      "12           1                            4                   2          1  \n",
      "24           1                            3                   3          1  \n",
      "140          1                            4                   3          1  \n",
      "198          1                            2                   2          1  \n",
      "209          1                            4                   3          1  \n",
      "284          1                            1                   4          1  \n",
      "290          4                            3                   3          1  \n",
      "392          1                            3                   4          1  \n",
      "403          4                            1                   2          1  \n",
      "407          1                            1                   3          4  \n",
      "421          1                            3                   2          1  \n",
      "441          4                            1                   3          1  \n",
      "450          4                            4                   3          1  \n",
      "471          1                            2                   3          4  \n",
      "475          1                            3                   3          1  \n",
      "490          4                            3                   3          1  \n",
      "494          4                            1                   3          1  \n",
      "501          1                            4                   3          1  \n",
      "513          4                            3                   3          1  \n",
      "521          1                            3                   3          1  \n",
      "528          1                            3                   3          1  \n",
      "566          4                            2                   3          4  \n",
      "625          1                            3                   3          4  \n",
      "676          1                            3                   3          1  \n",
      "806          4                            3                   2          1  \n",
      "810          1                            4                   2          1  \n",
      "815          1                            4                   3          1  \n",
      "881          4                            2                   3          1  \n",
      "886          1                            1                   3          1  \n",
      "902          1                            1                   3          1  \n",
      "939          1                            4                   1          1  \n",
      "1039         1                            2                   3          1  \n",
      "1054         1                            2                   3          1  \n",
      "1060         1                            2                   3          1  \n",
      "1092         4                            1                   3          1  \n",
      "1113         1                            2                   4          4  \n",
      "1134         1                            1                   3          1  \n",
      "1135         1                            4                   3          1  \n",
      "1142         1                            3                   3          1  \n",
      "1152         1                            2                   3          1  \n",
      "1171         4                            2                   3          1  \n",
      "1181         1                            4                   2          1  \n",
      "Anomalies in column 'EmpJobLevel':\n",
      "               EmpDepartment  EmpEducationLevel  EmpEnvironmentSatisfaction  \\\n",
      "3            Human Resources                  4                           2   \n",
      "151              Development                  3                           1   \n",
      "171                    Sales                  2                           4   \n",
      "175   Research & Development                  1                           2   \n",
      "178                    Sales                  1                           1   \n",
      "192   Research & Development                  4                           2   \n",
      "230   Research & Development                  3                           3   \n",
      "264   Research & Development                  4                           4   \n",
      "270   Research & Development                  2                           4   \n",
      "278   Research & Development                  2                           4   \n",
      "297   Research & Development                  3                           3   \n",
      "298   Research & Development                  2                           1   \n",
      "302   Research & Development                  3                           4   \n",
      "304                    Sales                  3                           2   \n",
      "307                    Sales                  3                           1   \n",
      "310                    Sales                  2                           4   \n",
      "312                    Sales                  3                           4   \n",
      "316   Research & Development                  2                           3   \n",
      "329   Research & Development                  3                           2   \n",
      "341   Research & Development                  2                           4   \n",
      "342          Human Resources                  4                           4   \n",
      "388   Research & Development                  3                           4   \n",
      "475                    Sales                  5                           3   \n",
      "483                    Sales                  3                           3   \n",
      "492                  Finance                  3                           2   \n",
      "505          Human Resources                  4                           4   \n",
      "571                    Sales                  4                           2   \n",
      "589   Research & Development                  3                           3   \n",
      "600   Research & Development                  4                           3   \n",
      "642   Research & Development                  3                           4   \n",
      "681   Research & Development                  1                           2   \n",
      "703          Human Resources                  4                           3   \n",
      "782              Development                  3                           3   \n",
      "786                    Sales                  4                           2   \n",
      "816              Development                  2                           2   \n",
      "851              Development                  3                           1   \n",
      "864              Development                  3                           1   \n",
      "898              Development                  3                           3   \n",
      "918              Development                  1                           4   \n",
      "921              Development                  4                           3   \n",
      "956              Development                  2                           3   \n",
      "958                    Sales                  4                           4   \n",
      "962                    Sales                  4                           1   \n",
      "978             Data Science                  2                           1   \n",
      "989              Development                  3                           4   \n",
      "997              Development                  1                           1   \n",
      "1006             Development                  4                           3   \n",
      "1036             Development                  2                           3   \n",
      "1039            Data Science                  5                           4   \n",
      "1088             Development                  2                           1   \n",
      "1094             Development                  1                           2   \n",
      "1104             Development                  3                           1   \n",
      "1109                   Sales                  4                           3   \n",
      "1156             Development                  4                           4   \n",
      "1160         Human Resources                  3                           1   \n",
      "1177             Development                  4                           4   \n",
      "\n",
      "      EmpHourlyRate  EmpJobInvolvement  EmpJobLevel  EmpJobSatisfaction  \\\n",
      "3                 3                  2            5                   4   \n",
      "151               3                  3            5                   3   \n",
      "171               4                  3            5                   3   \n",
      "175               3                  1            5                   3   \n",
      "178               3                  1            5                   4   \n",
      "192               3                  3            5                   3   \n",
      "230               2                  2            5                   3   \n",
      "264               4                  3            5                   1   \n",
      "270               2                  3            5                   3   \n",
      "278               3                  3            5                   2   \n",
      "297               4                  1            5                   4   \n",
      "298               4                  2            5                   3   \n",
      "302               4                  2            5                   4   \n",
      "304               4                  3            5                   2   \n",
      "307               4                  1            5                   2   \n",
      "310               2                  2            5                   2   \n",
      "312               4                  3            5                   2   \n",
      "316               4                  4            5                   1   \n",
      "329               4                  3            5                   2   \n",
      "341               3                  1            5                   3   \n",
      "342               4                  3            5                   2   \n",
      "388               4                  3            5                   1   \n",
      "475               3                  2            5                   4   \n",
      "483               3                  3            5                   3   \n",
      "492               2                  3            5                   4   \n",
      "505               4                  3            5                   3   \n",
      "571               4                  3            5                   2   \n",
      "589               3                  2            5                   1   \n",
      "600               2                  3            5                   4   \n",
      "642               4                  2            5                   2   \n",
      "681               2                  3            5                   4   \n",
      "703               3                  4            5                   2   \n",
      "782               3                  3            5                   3   \n",
      "786               4                  3            5                   1   \n",
      "816               2                  2            5                   3   \n",
      "851               3                  3            5                   2   \n",
      "864               3                  3            5                   3   \n",
      "898               3                  3            5                   2   \n",
      "918               2                  3            5                   3   \n",
      "921               3                  2            5                   3   \n",
      "956               3                  3            5                   4   \n",
      "958               3                  3            5                   4   \n",
      "962               4                  2            5                   3   \n",
      "978               2                  3            5                   3   \n",
      "989               4                  3            5                   1   \n",
      "997               4                  3            5                   2   \n",
      "1006              2                  3            5                   1   \n",
      "1036              3                  2            5                   4   \n",
      "1039              2                  3            5                   3   \n",
      "1088              4                  3            5                   1   \n",
      "1094              3                  3            5                   3   \n",
      "1104              2                  3            5                   1   \n",
      "1109              4                  3            5                   3   \n",
      "1156              3                  2            5                   3   \n",
      "1160              4                  3            5                   2   \n",
      "1177              2                  3            5                   4   \n",
      "\n",
      "      OverTime  EmpRelationshipSatisfaction  EmpWorkLifeBalance  Attrition  \n",
      "3            1                            2                   2          1  \n",
      "151          1                            2                   4          1  \n",
      "171          1                            2                   4          1  \n",
      "175          1                            2                   3          1  \n",
      "178          1                            4                   3          4  \n",
      "192          4                            4                   2          1  \n",
      "230          1                            1                   4          1  \n",
      "264          1                            4                   3          1  \n",
      "270          1                            2                   3          1  \n",
      "278          1                            1                   3          1  \n",
      "297          1                            2                   3          1  \n",
      "298          1                            3                   4          1  \n",
      "302          1                            3                   4          1  \n",
      "304          1                            3                   3          1  \n",
      "307          4                            1                   3          4  \n",
      "310          1                            3                   3          1  \n",
      "312          4                            1                   2          1  \n",
      "316          1                            4                   2          1  \n",
      "329          1                            3                   3          1  \n",
      "341          1                            4                   3          1  \n",
      "342          1                            1                   3          1  \n",
      "388          4                            3                   3          1  \n",
      "475          1                            3                   3          1  \n",
      "483          4                            3                   3          1  \n",
      "492          4                            4                   2          1  \n",
      "505          1                            3                   3          1  \n",
      "571          1                            2                   2          1  \n",
      "589          1                            2                   3          1  \n",
      "600          4                            3                   3          1  \n",
      "642          1                            4                   3          1  \n",
      "681          1                            4                   3          1  \n",
      "703          4                            1                   3          1  \n",
      "782          1                            4                   2          1  \n",
      "786          1                            4                   2          1  \n",
      "816          4                            4                   2          1  \n",
      "851          4                            1                   2          1  \n",
      "864          1                            3                   3          1  \n",
      "898          1                            2                   3          1  \n",
      "918          1                            2                   3          1  \n",
      "921          1                            1                   3          1  \n",
      "956          1                            4                   3          1  \n",
      "958          1                            3                   2          1  \n",
      "962          4                            4                   4          1  \n",
      "978          1                            4                   3          1  \n",
      "989          4                            3                   3          1  \n",
      "997          1                            1                   2          1  \n",
      "1006         4                            4                   3          1  \n",
      "1036         1                            1                   3          1  \n",
      "1039         1                            2                   3          1  \n",
      "1088         1                            3                   2          1  \n",
      "1094         4                            3                   3          1  \n",
      "1104         1                            4                   1          1  \n",
      "1109         1                            4                   3          1  \n",
      "1156         4                            3                   3          1  \n",
      "1160         1                            3                   3          1  \n",
      "1177         4                            1                   4          1  \n"
     ]
    }
   ],
   "execution_count": 212
  },
  {
   "cell_type": "markdown",
   "source": [
    "### Check for Anomalies"
   ],
   "metadata": {
    "collapsed": false
   },
   "id": "e30b7d40e2706fbe"
  },
  {
   "cell_type": "code",
   "source": [
    "columns_to_process = ['EmpEducationLevel' , 'EmpJobLevel']\n",
    "for column in columns_to_process:\n",
    "    df_selected.loc[:, column] = df_selected[column].apply(lambda x: max(1, min(x, 4)))\n",
    "for column in columns_to_process:\n",
    "    if df_selected[column].min() < 1 or df_selected[column].max() > 4:\n",
    "        print(f\"Column {column} still has anomalies\")\n",
    "    else:\n",
    "        print(f\"Column {column} has no anomalies\")"
   ],
   "metadata": {
    "collapsed": false,
    "ExecuteTime": {
     "end_time": "2024-10-27T14:21:39.057074Z",
     "start_time": "2024-10-27T14:21:39.047616Z"
    }
   },
   "id": "c99e766dcce91ec0",
   "outputs": [
    {
     "name": "stdout",
     "output_type": "stream",
     "text": [
      "Column EmpEducationLevel has no anomalies\n",
      "Column EmpJobLevel has no anomalies\n"
     ]
    }
   ],
   "execution_count": 213
  },
  {
   "cell_type": "markdown",
   "source": [
    "### Normalize data with minor differences."
   ],
   "metadata": {
    "collapsed": false
   },
   "id": "7f6796c9a567beb2"
  },
  {
   "cell_type": "code",
   "source": [
    "# Define the names of the competence rating columns.\n",
    "comp_columns = ['EmpEducationLevel', 'EmpEnvironmentSatisfaction', 'EmpHourlyRate', 'EmpJobInvolvement',  'EmpJobLevel', 'EmpJobSatisfaction', 'OverTime', 'EmpRelationshipSatisfaction','EmpWorkLifeBalance','Attrition']\n",
    "\n",
    "# Iterate through these columns to check for anomalies.\n",
    "for column in comp_columns:\n",
    "    outliers = df_selected[~df_selected[column].isin([1, 2, 3, 4])]\n",
    "    if not outliers.empty:\n",
    "        print(f\"Anomalies in column '{column}':\")\n",
    "        print(outliers)"
   ],
   "metadata": {
    "collapsed": false,
    "ExecuteTime": {
     "end_time": "2024-10-27T14:21:40.735447Z",
     "start_time": "2024-10-27T14:21:40.722731Z"
    }
   },
   "id": "779523c64f597c17",
   "outputs": [],
   "execution_count": 214
  },
  {
   "cell_type": "markdown",
   "source": [
    "### No more Anomalies"
   ],
   "metadata": {
    "collapsed": false
   },
   "id": "18b7be795f4877a1"
  },
  {
   "cell_type": "code",
   "source": [
    "# Define a mapping of original column names to new column names.\n",
    "column_mapping = {\n",
    "    'EmpEducationLevel': 'Education Level',\n",
    "    'EmpEnvironmentSatisfaction': 'Leadership',\n",
    "    'EmpHourlyRate': 'Communication Skills',\n",
    "    'EmpJobInvolvement': 'Self-Motivation',\n",
    "    'EmpJobLevel': 'Problem-Solving Skills',\n",
    "    'EmpJobSatisfaction': 'Technical Proficiency',\n",
    "    'OverTime': 'Emotional Intelligence',\n",
    "    'EmpRelationshipSatisfaction': 'Creativity',\n",
    "    'EmpWorkLifeBalance': 'Teamwork',\n",
    "    'Attrition': 'Decision-Making'\n",
    "}\n",
    "\n",
    "# Update the column names in the comp_columns list.\n",
    "comp_columns = [column_mapping[col] if col in column_mapping else col for col in comp_columns]\n",
    "\n",
    "df_selected = df_selected.rename(columns=column_mapping)\n",
    "\n",
    "\n",
    "\n",
    "print(df_selected.columns)\n",
    "\n"
   ],
   "metadata": {
    "collapsed": false,
    "ExecuteTime": {
     "end_time": "2024-10-27T14:21:42.772932Z",
     "start_time": "2024-10-27T14:21:42.759044Z"
    }
   },
   "id": "b8440d0f71172f5a",
   "outputs": [
    {
     "name": "stdout",
     "output_type": "stream",
     "text": [
      "Index(['EmpDepartment', 'Education Level', 'Leadership',\n",
      "       'Communication Skills', 'Self-Motivation', 'Problem-Solving Skills',\n",
      "       'Technical Proficiency', 'Emotional Intelligence', 'Creativity',\n",
      "       'Teamwork', 'Decision-Making'],\n",
      "      dtype='object')\n"
     ]
    }
   ],
   "execution_count": 215
  },
  {
   "metadata": {},
   "cell_type": "code",
   "outputs": [],
   "execution_count": null,
   "source": "",
   "id": "6ba0a38932592af9"
  },
  {
   "cell_type": "markdown",
   "source": [
    "### Modify the existing competences to match the target competences."
   ],
   "metadata": {
    "collapsed": false
   },
   "id": "ee5c6be9774a862f"
  },
  {
   "cell_type": "code",
   "source": [
    "# Replace 'Human Resources' and 'Finance' in the 'EmpDepartment' column with 'Administration'.\n",
    "df_selected['EmpDepartment'].replace(['Human Resources', 'Finance'], 'Administration', inplace=True)\n",
    "\n",
    "print(df_selected['EmpDepartment'].unique())"
   ],
   "metadata": {
    "collapsed": false,
    "ExecuteTime": {
     "end_time": "2024-10-27T14:21:45.428873Z",
     "start_time": "2024-10-27T14:21:45.419524Z"
    }
   },
   "id": "76a0da364c868b33",
   "outputs": [
    {
     "name": "stdout",
     "output_type": "stream",
     "text": [
      "['Sales' 'Administration' 'Development' 'Data Science'\n",
      " 'Research & Development']\n"
     ]
    }
   ],
   "execution_count": 216
  },
  {
   "metadata": {
    "ExecuteTime": {
     "end_time": "2024-10-27T14:21:46.876770Z",
     "start_time": "2024-10-27T14:21:46.775821Z"
    }
   },
   "cell_type": "code",
   "source": "df_selected.to_excel('cleaned_data.xlsx', index=False)\n",
   "id": "6cf7c26c024cb900",
   "outputs": [],
   "execution_count": 217
  },
  {
   "cell_type": "markdown",
   "source": [
    "### Merge 'Human Resources' and 'Finance' departments into 'Administration'."
   ],
   "metadata": {
    "collapsed": false
   },
   "id": "9660847cb389d6ed"
  },
  {
   "metadata": {
    "ExecuteTime": {
     "end_time": "2024-10-27T14:21:48.210852Z",
     "start_time": "2024-10-27T14:21:48.200815Z"
    }
   },
   "cell_type": "code",
   "source": "print(df_selected.dtypes)",
   "id": "c52649af42b6948",
   "outputs": [
    {
     "name": "stdout",
     "output_type": "stream",
     "text": [
      "EmpDepartment             object\n",
      "Education Level            int64\n",
      "Leadership                 int64\n",
      "Communication Skills       int64\n",
      "Self-Motivation            int64\n",
      "Problem-Solving Skills     int64\n",
      "Technical Proficiency      int64\n",
      "Emotional Intelligence     int64\n",
      "Creativity                 int64\n",
      "Teamwork                   int64\n",
      "Decision-Making            int64\n",
      "dtype: object\n"
     ]
    }
   ],
   "execution_count": 218
  },
  {
   "cell_type": "markdown",
   "source": [
    "# Feature Engineering\n",
    "By applying different weight ratios for various departments, employees are scored accordingly. This process distinguishes two category labels: 'Suitable' and 'Not Suitable' for the position"
   ],
   "metadata": {
    "collapsed": false
   },
   "id": "358877e7f77f5863"
  },
  {
   "cell_type": "code",
   "source": [
    "weights = {\n",
    "    'Administration': {\n",
    "        'Leadership': 0.20, 'Communication Skills': 0.20, 'Emotional Intelligence': 0.15, 'Decision-Making': 0.15, 'Teamwork': 0.10,\n",
    "        'Education Level': 0.10, 'Problem-Solving Skills': 0.05, 'Creativity': 0.05, 'Technical Proficiency': 0.05, 'Self-Motivation': 0.05\n",
    "    },\n",
    "    'Sales': {\n",
    "        'Communication Skills': 0.25, 'Emotional Intelligence': 0.20, 'Self-Motivation': 0.20, 'Creativity': 0.10, 'Teamwork': 0.10,\n",
    "        'Education Level': 0.05, 'Problem-Solving Skills': 0.05, 'Leadership': 0.05, 'Technical Proficiency': 0, 'Decision-Making': 0\n",
    "    },\n",
    "    'Development': {\n",
    "        'Technical Proficiency': 0.25, 'Problem-Solving Skills': 0.20, 'Creativity': 0.15, 'Teamwork': 0.10, 'Decision-Making': 0.10,\n",
    "        'Education Level': 0.05, 'Emotional Intelligence': 0.05, 'Leadership': 0.05, 'Communication Skills': 0.05, 'Self-Motivation': 0\n",
    "    },\n",
    "    'Data Science': {\n",
    "        'Technical Proficiency': 0.25, 'Problem-Solving Skills': 0.20, 'Creativity': 0.15, 'Education Level': 0.15, 'Decision-Making': 0.10,\n",
    "        'Teamwork': 0.05, 'Emotional Intelligence': 0.05, 'Leadership': 0.05, 'Communication Skills': 0.05, 'Self-Motivation': 0.05\n",
    "    },\n",
    "    'Research & Development': {\n",
    "        'Technical Proficiency': 0.25, 'Problem-Solving Skills': 0.20, 'Creativity': 0.20, 'Teamwork': 0.10, 'Education Level': 0.10,\n",
    "        'Decision-Making': 0.05, 'Emotional Intelligence': 0.05, 'Leadership': 0.05, 'Communication Skills': 0.05, 'Self-Motivation': 0.05\n",
    "    }\n",
    "}\n",
    "\n",
    "\n",
    "for department, dept_weights in weights.items():\n",
    "    df_selected[f'{department}_Score'] = sum(df_selected[comp] * weight for comp, weight in dept_weights.items() if comp in df_selected.columns)\n",
    "    \n",
    "threshold = 2  \n",
    "for department in weights.keys():\n",
    "    df_selected[f'Suitable_for_{department}'] = df_selected[f'{department}_Score'].apply(lambda x: 1 if x >= threshold else 0)\n",
    "\n",
    "df_selected['Suit_Current_Department'] = df_selected.apply(lambda row: row[f'Suitable_for_{row[\"EmpDepartment\"]}'], axis=1)\n",
    "\n",
    "\n"
   ],
   "metadata": {
    "collapsed": false,
    "ExecuteTime": {
     "end_time": "2024-10-27T14:21:50.163491Z",
     "start_time": "2024-10-27T14:21:50.132321Z"
    }
   },
   "id": "5f6becaf674df99",
   "outputs": [],
   "execution_count": 219
  },
  {
   "cell_type": "markdown",
   "source": [
    "### Weight distribution, output scores for each department.‘Suit’ = 1 、‘Not Suit’ = 0. "
   ],
   "metadata": {
    "collapsed": false
   },
   "id": "c080725fbf9992fb"
  },
  {
   "metadata": {
    "ExecuteTime": {
     "end_time": "2024-10-27T14:21:52.893900Z",
     "start_time": "2024-10-27T14:21:52.887887Z"
    }
   },
   "cell_type": "code",
   "source": "print(df_selected.dtypes)",
   "id": "23d192f359566618",
   "outputs": [
    {
     "name": "stdout",
     "output_type": "stream",
     "text": [
      "EmpDepartment                           object\n",
      "Education Level                          int64\n",
      "Leadership                               int64\n",
      "Communication Skills                     int64\n",
      "Self-Motivation                          int64\n",
      "Problem-Solving Skills                   int64\n",
      "Technical Proficiency                    int64\n",
      "Emotional Intelligence                   int64\n",
      "Creativity                               int64\n",
      "Teamwork                                 int64\n",
      "Decision-Making                          int64\n",
      "Administration_Score                   float64\n",
      "Sales_Score                            float64\n",
      "Development_Score                      float64\n",
      "Data Science_Score                     float64\n",
      "Research & Development_Score           float64\n",
      "Suitable_for_Administration              int64\n",
      "Suitable_for_Sales                       int64\n",
      "Suitable_for_Development                 int64\n",
      "Suitable_for_Data Science                int64\n",
      "Suitable_for_Research & Development      int64\n",
      "Suit_Current_Department                  int64\n",
      "dtype: object\n"
     ]
    }
   ],
   "execution_count": 220
  },
  {
   "metadata": {
    "collapsed": false,
    "ExecuteTime": {
     "end_time": "2024-10-27T14:21:54.796408Z",
     "start_time": "2024-10-27T14:21:54.776767Z"
    }
   },
   "cell_type": "code",
   "source": "df_selected = pd.get_dummies(df_selected, columns=[ 'EmpDepartment'])",
   "id": "8f443a9622ed02cf",
   "outputs": [],
   "execution_count": 221
  },
  {
   "metadata": {},
   "cell_type": "markdown",
   "source": "One-hot encoding creates new binary columns",
   "id": "5c31031d2ebdb0ae"
  },
  {
   "cell_type": "code",
   "source": [
    "print(df_selected.dtypes)\n"
   ],
   "metadata": {
    "collapsed": false,
    "ExecuteTime": {
     "end_time": "2024-10-27T14:21:56.323873Z",
     "start_time": "2024-10-27T14:21:56.309838Z"
    }
   },
   "id": "246d1d4d8bb0a02",
   "outputs": [
    {
     "name": "stdout",
     "output_type": "stream",
     "text": [
      "Education Level                           int64\n",
      "Leadership                                int64\n",
      "Communication Skills                      int64\n",
      "Self-Motivation                           int64\n",
      "Problem-Solving Skills                    int64\n",
      "Technical Proficiency                     int64\n",
      "Emotional Intelligence                    int64\n",
      "Creativity                                int64\n",
      "Teamwork                                  int64\n",
      "Decision-Making                           int64\n",
      "Administration_Score                    float64\n",
      "Sales_Score                             float64\n",
      "Development_Score                       float64\n",
      "Data Science_Score                      float64\n",
      "Research & Development_Score            float64\n",
      "Suitable_for_Administration               int64\n",
      "Suitable_for_Sales                        int64\n",
      "Suitable_for_Development                  int64\n",
      "Suitable_for_Data Science                 int64\n",
      "Suitable_for_Research & Development       int64\n",
      "Suit_Current_Department                   int64\n",
      "EmpDepartment_Administration               bool\n",
      "EmpDepartment_Data Science                 bool\n",
      "EmpDepartment_Development                  bool\n",
      "EmpDepartment_Research & Development       bool\n",
      "EmpDepartment_Sales                        bool\n",
      "dtype: object\n"
     ]
    }
   ],
   "execution_count": 222
  },
  {
   "cell_type": "code",
   "source": [
    "columns_to_convert = [\n",
    "    \n",
    "    'EmpDepartment_Administration', 'EmpDepartment_Data Science',\n",
    "    'EmpDepartment_Development', 'EmpDepartment_Research & Development',\n",
    "    'EmpDepartment_Sales',\n",
    "]\n",
    "df_selected[columns_to_convert] = df_selected[columns_to_convert].astype(int)\n"
   ],
   "metadata": {
    "collapsed": false,
    "ExecuteTime": {
     "end_time": "2024-10-27T14:21:57.972555Z",
     "start_time": "2024-10-27T14:21:57.959191Z"
    }
   },
   "id": "2a97ea341c1ceb38",
   "outputs": [],
   "execution_count": 223
  },
  {
   "cell_type": "markdown",
   "source": [
    "Convert one-hot encoded columns to integer type for machine learning model compatibility."
   ],
   "metadata": {
    "collapsed": false
   },
   "id": "afd4b21b8242a5fd"
  },
  {
   "cell_type": "code",
   "source": [
    "print(df_selected[columns_to_convert].dtypes)\n"
   ],
   "metadata": {
    "collapsed": false,
    "ExecuteTime": {
     "end_time": "2024-10-27T14:21:59.775880Z",
     "start_time": "2024-10-27T14:21:59.759743Z"
    }
   },
   "id": "5321e3843cfd55fe",
   "outputs": [
    {
     "name": "stdout",
     "output_type": "stream",
     "text": [
      "EmpDepartment_Administration            int32\n",
      "EmpDepartment_Data Science              int32\n",
      "EmpDepartment_Development               int32\n",
      "EmpDepartment_Research & Development    int32\n",
      "EmpDepartment_Sales                     int32\n",
      "dtype: object\n"
     ]
    }
   ],
   "execution_count": 224
  },
  {
   "cell_type": "code",
   "source": [
    "print(df_selected.dtypes)"
   ],
   "metadata": {
    "collapsed": false,
    "ExecuteTime": {
     "end_time": "2024-10-27T14:22:01.376731Z",
     "start_time": "2024-10-27T14:22:01.360585Z"
    }
   },
   "id": "4ced2499a52c3881",
   "outputs": [
    {
     "name": "stdout",
     "output_type": "stream",
     "text": [
      "Education Level                           int64\n",
      "Leadership                                int64\n",
      "Communication Skills                      int64\n",
      "Self-Motivation                           int64\n",
      "Problem-Solving Skills                    int64\n",
      "Technical Proficiency                     int64\n",
      "Emotional Intelligence                    int64\n",
      "Creativity                                int64\n",
      "Teamwork                                  int64\n",
      "Decision-Making                           int64\n",
      "Administration_Score                    float64\n",
      "Sales_Score                             float64\n",
      "Development_Score                       float64\n",
      "Data Science_Score                      float64\n",
      "Research & Development_Score            float64\n",
      "Suitable_for_Administration               int64\n",
      "Suitable_for_Sales                        int64\n",
      "Suitable_for_Development                  int64\n",
      "Suitable_for_Data Science                 int64\n",
      "Suitable_for_Research & Development       int64\n",
      "Suit_Current_Department                   int64\n",
      "EmpDepartment_Administration              int32\n",
      "EmpDepartment_Data Science                int32\n",
      "EmpDepartment_Development                 int32\n",
      "EmpDepartment_Research & Development      int32\n",
      "EmpDepartment_Sales                       int32\n",
      "dtype: object\n"
     ]
    }
   ],
   "execution_count": 225
  },
  {
   "cell_type": "markdown",
   "source": [
    "Check the types"
   ],
   "metadata": {
    "collapsed": false
   },
   "id": "e4505b9631ce493e"
  },
  {
   "cell_type": "code",
   "source": [
    "# Output the modified DataFrame to an Excel file.\n",
    "df_selected.to_excel('modified_data.xlsx', index=False)"
   ],
   "metadata": {
    "collapsed": false,
    "ExecuteTime": {
     "end_time": "2024-10-27T14:22:03.226228Z",
     "start_time": "2024-10-27T14:22:03.012794Z"
    }
   },
   "id": "c369ccfaae8e52f8",
   "outputs": [],
   "execution_count": 226
  },
  {
   "cell_type": "markdown",
   "source": [
    "### Print the prototype of the data.\n"
   ],
   "metadata": {
    "collapsed": false
   },
   "id": "7445d758f999a2c2"
  },
  {
   "cell_type": "code",
   "source": [
    "suit_mapping = {'Suit': 1, 'NoSuit': 0}\n",
    "\n",
    "columns_to_convert = [\n",
    "    'Suitable_for_Administration', \n",
    "    'Suitable_for_Sales', \n",
    "    'Suitable_for_Development', \n",
    "    'Suitable_for_Data Science', \n",
    "    'Suitable_for_Research & Development', \n",
    "    'Suit_Current_Department'\n",
    "]\n",
    "\n",
    "for col in columns_to_convert:\n",
    "    df_selected[col] = df_selected[col].replace(suit_mapping)\n"
   ],
   "metadata": {
    "collapsed": false,
    "ExecuteTime": {
     "end_time": "2024-10-27T14:22:05.523650Z",
     "start_time": "2024-10-27T14:22:05.514020Z"
    }
   },
   "id": "376ac197a77d9d0c",
   "outputs": [],
   "execution_count": 227
  },
  {
   "cell_type": "code",
   "source": [
    "print(df_selected.dtypes)"
   ],
   "metadata": {
    "collapsed": false,
    "ExecuteTime": {
     "end_time": "2024-10-27T14:22:07.019861Z",
     "start_time": "2024-10-27T14:22:07.005725Z"
    }
   },
   "id": "2e0c1e1e47f1961f",
   "outputs": [
    {
     "name": "stdout",
     "output_type": "stream",
     "text": [
      "Education Level                           int64\n",
      "Leadership                                int64\n",
      "Communication Skills                      int64\n",
      "Self-Motivation                           int64\n",
      "Problem-Solving Skills                    int64\n",
      "Technical Proficiency                     int64\n",
      "Emotional Intelligence                    int64\n",
      "Creativity                                int64\n",
      "Teamwork                                  int64\n",
      "Decision-Making                           int64\n",
      "Administration_Score                    float64\n",
      "Sales_Score                             float64\n",
      "Development_Score                       float64\n",
      "Data Science_Score                      float64\n",
      "Research & Development_Score            float64\n",
      "Suitable_for_Administration               int64\n",
      "Suitable_for_Sales                        int64\n",
      "Suitable_for_Development                  int64\n",
      "Suitable_for_Data Science                 int64\n",
      "Suitable_for_Research & Development       int64\n",
      "Suit_Current_Department                   int64\n",
      "EmpDepartment_Administration              int32\n",
      "EmpDepartment_Data Science                int32\n",
      "EmpDepartment_Development                 int32\n",
      "EmpDepartment_Research & Development      int32\n",
      "EmpDepartment_Sales                       int32\n",
      "dtype: object\n"
     ]
    }
   ],
   "execution_count": 228
  },
  {
   "cell_type": "markdown",
   "source": [
    "By encoding, a dataset consisting solely of numerical values is achieved, meeting the requirements of a machine learning dataset"
   ],
   "metadata": {
    "collapsed": false
   },
   "id": "b8aed768e907d719"
  },
  {
   "cell_type": "code",
   "source": [
    "from sklearn.model_selection import train_test_split\n",
    "\n",
    "X = df_selected.drop('Suit_Current_Department', axis=1)  # Features\n",
    "y = df_selected['Suit_Current_Department']               # Labels\n",
    "\n",
    "X_train, X_test, y_train, y_test = train_test_split(X, y, test_size=0.3, random_state=42)\n"
   ],
   "metadata": {
    "collapsed": false,
    "ExecuteTime": {
     "end_time": "2024-10-27T14:22:09.740320Z",
     "start_time": "2024-10-27T14:22:09.721196Z"
    }
   },
   "id": "ddb1e042892c31c0",
   "outputs": [],
   "execution_count": 229
  },
  {
   "cell_type": "markdown",
   "source": [
    "### Split the dataset into training and test sets"
   ],
   "metadata": {
    "collapsed": false
   },
   "id": "f83ae1242f61bbc0"
  },
  {
   "cell_type": "code",
   "source": [
    "print(X_train.dtypes)\n"
   ],
   "metadata": {
    "collapsed": false,
    "ExecuteTime": {
     "end_time": "2024-10-27T14:22:11.433012Z",
     "start_time": "2024-10-27T14:22:11.423394Z"
    }
   },
   "id": "fa640c1b75608b60",
   "outputs": [
    {
     "name": "stdout",
     "output_type": "stream",
     "text": [
      "Education Level                           int64\n",
      "Leadership                                int64\n",
      "Communication Skills                      int64\n",
      "Self-Motivation                           int64\n",
      "Problem-Solving Skills                    int64\n",
      "Technical Proficiency                     int64\n",
      "Emotional Intelligence                    int64\n",
      "Creativity                                int64\n",
      "Teamwork                                  int64\n",
      "Decision-Making                           int64\n",
      "Administration_Score                    float64\n",
      "Sales_Score                             float64\n",
      "Development_Score                       float64\n",
      "Data Science_Score                      float64\n",
      "Research & Development_Score            float64\n",
      "Suitable_for_Administration               int64\n",
      "Suitable_for_Sales                        int64\n",
      "Suitable_for_Development                  int64\n",
      "Suitable_for_Data Science                 int64\n",
      "Suitable_for_Research & Development       int64\n",
      "EmpDepartment_Administration              int32\n",
      "EmpDepartment_Data Science                int32\n",
      "EmpDepartment_Development                 int32\n",
      "EmpDepartment_Research & Development      int32\n",
      "EmpDepartment_Sales                       int32\n",
      "dtype: object\n"
     ]
    }
   ],
   "execution_count": 230
  },
  {
   "cell_type": "markdown",
   "source": [
    "### Since the \"EmpNumber\" column is displayed as an \"object\" type and does not significantly impact the data, it can therefore be removed"
   ],
   "metadata": {
    "collapsed": false
   },
   "id": "91ebf54a5c30e158"
  },
  {
   "cell_type": "markdown",
   "source": [
    "# Machine Learning Model Testing\n",
    "## 1.Random Forest Classifier"
   ],
   "metadata": {
    "collapsed": false
   },
   "id": "80740e59979ffffc"
  },
  {
   "cell_type": "code",
   "source": [
    "from sklearn.ensemble import RandomForestClassifier\n",
    "\n",
    "model = RandomForestClassifier()\n",
    "model.fit(X_train, y_train)\n",
    "\n",
    "from sklearn.metrics import accuracy_score, classification_report\n",
    "\n",
    "y_pred = model.predict(X_test)\n",
    "print(accuracy_score(y_test, y_pred))\n",
    "print(classification_report(y_test, y_pred))\n"
   ],
   "metadata": {
    "collapsed": false,
    "ExecuteTime": {
     "end_time": "2024-10-27T14:22:15.774969Z",
     "start_time": "2024-10-27T14:22:15.676888Z"
    }
   },
   "id": "d4daa77445d25ba0",
   "outputs": [
    {
     "name": "stdout",
     "output_type": "stream",
     "text": [
      "0.9944444444444445\n",
      "              precision    recall  f1-score   support\n",
      "\n",
      "           0       0.89      1.00      0.94        17\n",
      "           1       1.00      0.99      1.00       343\n",
      "\n",
      "    accuracy                           0.99       360\n",
      "   macro avg       0.95      1.00      0.97       360\n",
      "weighted avg       1.00      0.99      0.99       360\n",
      "\n"
     ]
    }
   ],
   "execution_count": 231
  },
  {
   "metadata": {
    "ExecuteTime": {
     "end_time": "2024-10-27T14:22:20.070128Z",
     "start_time": "2024-10-27T14:22:20.044263Z"
    }
   },
   "cell_type": "code",
   "source": [
    "import joblib\n",
    "\n",
    "# 保存训练好的模型到一个文件\n",
    "joblib.dump(model, 'random_forest_model.pkl')\n",
    "print(\"模型已保存为 'random_forest_model.pkl'\")\n"
   ],
   "id": "f572e20e9c7ece8e",
   "outputs": [
    {
     "name": "stdout",
     "output_type": "stream",
     "text": [
      "模型已保存为 'random_forest_model.pkl'\n"
     ]
    }
   ],
   "execution_count": 232
  },
  {
   "metadata": {
    "ExecuteTime": {
     "end_time": "2024-10-27T14:22:22.526545Z",
     "start_time": "2024-10-27T14:22:22.043075Z"
    }
   },
   "cell_type": "code",
   "source": [
    "import pandas as pd\n",
    "from sklearn.model_selection import train_test_split\n",
    "from sklearn.ensemble import RandomForestClassifier\n",
    "from sklearn.metrics import accuracy_score, classification_report\n",
    "\n",
    "# 加载数据\n",
    "file_path = 'modified_data.xlsx'\n",
    "data = pd.read_excel(file_path)\n",
    "\n",
    "# 选择特征和目标变量\n",
    "X = data[['Education Level', 'Leadership', 'Communication Skills', 'Self-Motivation',\n",
    "          'Problem-Solving Skills', 'Technical Proficiency', 'Emotional Intelligence',\n",
    "          'Creativity', 'Teamwork', 'Decision-Making']]\n",
    "\n",
    "# 目标变量（例如：预测是否适合 Development 部门）\n",
    "y = data['Suitable_for_Development']\n",
    "\n",
    "# 将数据拆分为训练集和测试集（80% 训练，20% 测试）\n",
    "X_train, X_test, y_train, y_test = train_test_split(X, y, test_size=0.2, random_state=42)\n",
    "\n",
    "# 创建并训练随机森林分类器\n",
    "model = RandomForestClassifier(n_estimators=100, random_state=42)\n",
    "model.fit(X_train, y_train)\n",
    "\n",
    "# 预测测试集标签\n",
    "y_pred = model.predict(X_test)\n",
    "\n",
    "# 输出模型的评估指标\n",
    "print(\"Accuracy:\", accuracy_score(y_test, y_pred))\n",
    "print(\"Classification Report:\\n\", classification_report(y_test, y_pred))\n"
   ],
   "id": "9dc9bb97cb35119c",
   "outputs": [
    {
     "name": "stdout",
     "output_type": "stream",
     "text": [
      "Accuracy: 0.9583333333333334\n",
      "Classification Report:\n",
      "               precision    recall  f1-score   support\n",
      "\n",
      "           0       0.75      0.56      0.64        16\n",
      "           1       0.97      0.99      0.98       224\n",
      "\n",
      "    accuracy                           0.96       240\n",
      "   macro avg       0.86      0.77      0.81       240\n",
      "weighted avg       0.95      0.96      0.96       240\n",
      "\n"
     ]
    }
   ],
   "execution_count": 233
  },
  {
   "metadata": {
    "ExecuteTime": {
     "end_time": "2024-10-27T14:22:25.869626Z",
     "start_time": "2024-10-27T14:22:25.848109Z"
    }
   },
   "cell_type": "code",
   "source": [
    "import joblib\n",
    "\n",
    "# 保存训练好的模型到一个文件\n",
    "joblib.dump(model, 'random_forest_model2.pkl')\n",
    "print(\"模型已保存为 'random_forest_model2.pkl'\")"
   ],
   "id": "7657baf04a22b332",
   "outputs": [
    {
     "name": "stdout",
     "output_type": "stream",
     "text": [
      "模型已保存为 'random_forest_model2.pkl'\n"
     ]
    }
   ],
   "execution_count": 234
  },
  {
   "cell_type": "markdown",
   "source": [
    "### This model performs exceptionally well in predicting category 1, with both high precision and recall.\n",
    "### The prediction for category 0 is also quite accurate, though slightly lower compared to category 1.\n",
    "### The overall accuracy is very high, indicating that the model makes correct predictions for the majority of samples."
   ],
   "metadata": {
    "collapsed": false
   },
   "id": "54483230d7c4b5a5"
  },
  {
   "cell_type": "markdown",
   "source": [
    "## 2.Support Vector Machine, SVM"
   ],
   "metadata": {
    "collapsed": false
   },
   "id": "9037fc568a991c05"
  },
  {
   "cell_type": "code",
   "source": [
    "from sklearn.svm import SVC\n",
    "\n",
    "model = SVC()\n",
    "model.fit(X_train, y_train)\n",
    "y_pred = model.predict(X_test)\n",
    "\n",
    "print(accuracy_score(y_test, y_pred))\n",
    "print(classification_report(y_test, y_pred))\n"
   ],
   "metadata": {
    "collapsed": false,
    "ExecuteTime": {
     "end_time": "2024-10-27T09:35:35.949009Z",
     "start_time": "2024-10-27T09:35:35.931510Z"
    }
   },
   "id": "298010d2590c622",
   "outputs": [
    {
     "name": "stdout",
     "output_type": "stream",
     "text": [
      "0.9638888888888889\n",
      "              precision    recall  f1-score   support\n",
      "\n",
      "           0       0.87      0.75      0.81        36\n",
      "           1       0.97      0.99      0.98       324\n",
      "\n",
      "    accuracy                           0.96       360\n",
      "   macro avg       0.92      0.87      0.89       360\n",
      "weighted avg       0.96      0.96      0.96       360\n",
      "\n"
     ]
    }
   ],
   "execution_count": 170
  },
  {
   "cell_type": "markdown",
   "source": [
    "#### for this dataset, using SVM might encounter issues such as data imbalance or parameter mismatch"
   ],
   "metadata": {
    "collapsed": false
   },
   "id": "4f55e6a44c2eee4e"
  },
  {
   "cell_type": "markdown",
   "source": [
    "## 3.Decision Tree"
   ],
   "metadata": {
    "collapsed": false
   },
   "id": "24a4c0d52367121d"
  },
  {
   "cell_type": "code",
   "source": [
    "from sklearn.tree import DecisionTreeClassifier\n",
    "\n",
    "model = DecisionTreeClassifier()\n",
    "model.fit(X_train, y_train)\n",
    "y_pred = model.predict(X_test)\n",
    "\n",
    "print(accuracy_score(y_test, y_pred))\n",
    "print(classification_report(y_test, y_pred))\n"
   ],
   "metadata": {
    "collapsed": false,
    "ExecuteTime": {
     "end_time": "2024-10-27T09:35:38.447424Z",
     "start_time": "2024-10-27T09:35:38.431636Z"
    }
   },
   "id": "9590db96ca336b8b",
   "outputs": [
    {
     "name": "stdout",
     "output_type": "stream",
     "text": [
      "0.9722222222222222\n",
      "              precision    recall  f1-score   support\n",
      "\n",
      "           0       0.88      0.83      0.86        36\n",
      "           1       0.98      0.99      0.98       324\n",
      "\n",
      "    accuracy                           0.97       360\n",
      "   macro avg       0.93      0.91      0.92       360\n",
      "weighted avg       0.97      0.97      0.97       360\n",
      "\n"
     ]
    }
   ],
   "execution_count": 171
  },
  {
   "cell_type": "markdown",
   "source": [
    "## 4.Logistic Regression"
   ],
   "metadata": {
    "collapsed": false
   },
   "id": "adcbf9d22b11b7f4"
  },
  {
   "cell_type": "code",
   "source": [
    "from sklearn.linear_model import LogisticRegression\n",
    "\n",
    "model = LogisticRegression()\n",
    "model.fit(X_train, y_train)\n",
    "y_pred = model.predict(X_test)\n",
    "\n",
    "print(accuracy_score(y_test, y_pred))\n",
    "print(classification_report(y_test, y_pred))\n"
   ],
   "metadata": {
    "collapsed": false,
    "ExecuteTime": {
     "end_time": "2024-10-27T09:35:40.415112Z",
     "start_time": "2024-10-27T09:35:40.378324Z"
    }
   },
   "id": "7db8da7ce53a2f08",
   "outputs": [
    {
     "name": "stdout",
     "output_type": "stream",
     "text": [
      "0.9472222222222222\n",
      "              precision    recall  f1-score   support\n",
      "\n",
      "           0       0.73      0.75      0.74        36\n",
      "           1       0.97      0.97      0.97       324\n",
      "\n",
      "    accuracy                           0.95       360\n",
      "   macro avg       0.85      0.86      0.86       360\n",
      "weighted avg       0.95      0.95      0.95       360\n",
      "\n"
     ]
    },
    {
     "name": "stderr",
     "output_type": "stream",
     "text": [
      "D:\\Software\\Anacoda\\Lib\\site-packages\\sklearn\\linear_model\\_logistic.py:458: ConvergenceWarning: lbfgs failed to converge (status=1):\n",
      "STOP: TOTAL NO. of ITERATIONS REACHED LIMIT.\n",
      "\n",
      "Increase the number of iterations (max_iter) or scale the data as shown in:\n",
      "    https://scikit-learn.org/stable/modules/preprocessing.html\n",
      "Please also refer to the documentation for alternative solver options:\n",
      "    https://scikit-learn.org/stable/modules/linear_model.html#logistic-regression\n",
      "  n_iter_i = _check_optimize_result(\n"
     ]
    }
   ],
   "execution_count": 172
  },
  {
   "cell_type": "markdown",
   "source": [
    "#### It is a ConvergenceWarning indicating that the logistic regression model did not converge during training"
   ],
   "metadata": {
    "collapsed": false
   },
   "id": "a4004774ed26a053"
  },
  {
   "cell_type": "markdown",
   "source": [
    "## 5.K-Nearest Neighbors, KNN"
   ],
   "metadata": {
    "collapsed": false
   },
   "id": "b661ded703b90d5a"
  },
  {
   "cell_type": "code",
   "source": [
    "from sklearn.neighbors import KNeighborsClassifier\n",
    "\n",
    "model = KNeighborsClassifier()\n",
    "model.fit(X_train, y_train)\n",
    "y_pred = model.predict(X_test)\n",
    "\n",
    "print(accuracy_score(y_test, y_pred))\n",
    "print(classification_report(y_test, y_pred))\n"
   ],
   "metadata": {
    "collapsed": false,
    "ExecuteTime": {
     "end_time": "2024-10-27T09:35:43.174597Z",
     "start_time": "2024-10-27T09:35:43.100574Z"
    }
   },
   "id": "3ecb138723fa0a1",
   "outputs": [
    {
     "name": "stdout",
     "output_type": "stream",
     "text": [
      "0.9583333333333334\n",
      "              precision    recall  f1-score   support\n",
      "\n",
      "           0       0.89      0.67      0.76        36\n",
      "           1       0.96      0.99      0.98       324\n",
      "\n",
      "    accuracy                           0.96       360\n",
      "   macro avg       0.93      0.83      0.87       360\n",
      "weighted avg       0.96      0.96      0.96       360\n",
      "\n"
     ]
    }
   ],
   "execution_count": 173
  },
  {
   "cell_type": "markdown",
   "source": [
    "#### The data type is not suitable for KNN"
   ],
   "metadata": {
    "collapsed": false
   },
   "id": "d9d7d51c9cc79993"
  },
  {
   "cell_type": "markdown",
   "source": [
    "## conclusion\n",
    "### Model Testing and Evaluation:\n",
    "\n",
    "I have tested several popular machine learning models, including Support Vector Machine (SVM), Logistic Regression, Decision Tree, K-Nearest Neighbors (KNN), and Random Forest Classifier (RFC).\n",
    "During the testing process, I found that models like SVM, Logistic Regression, and KNN encountered errors or warnings in some cases, which might be due to data imbalance, mismatch in model parameters, or the nature of the algorithms themselves.\n",
    "### Performance of Random Forest Classifier and Decision Tree:\n",
    "\n",
    "The Random Forest Classifier (RFC) and Decision Tree (DT) performed well in my tests, with no significant errors or issues.\n",
    "The accuracy of RFC was about 98.61%, while DT achieved an accuracy of 97.5%, both demonstrating high predictive accuracy.\n",
    "### Future Research Direction:\n",
    "\n",
    "Based on the current test results and the performance of the models, I plan to continue using Random Forest Classifier and Decision Tree in my future research.\n",
    "Both models not only offer high accuracy but are also relatively easy to handle with large datasets and have lower requirements for data preprocessing.\n",
    "### Next Steps:\n",
    "\n",
    "In future work, I might further fine-tune and optimize the parameters of these two models to enhance their performance.\n",
    "Additionally, exploring more techniques in feature engineering and model tuning could help improve the models' accuracy and interpretability.\n"
   ],
   "metadata": {
    "collapsed": false
   },
   "id": "912ecd620646827c"
  },
  {
   "cell_type": "markdown",
   "source": [
    "## 1\n",
    "Define Department Feature Weights\n",
    "First, define the feature weights for each department.\n",
    "\n",
    "Department A values Leadership and Communication Skills more.\n",
    "Department B values Technical Proficiency and Problem-Solving Skills more.\n",
    "Department C values Customer Service and Teamwork more.\n",
    "Department D values Creativity and Innovation more.\n",
    "Department E values Attention to Detail and Execution more."
   ],
   "metadata": {
    "collapsed": false
   },
   "id": "ae2fbe736104c31b"
  },
  {
   "cell_type": "code",
   "source": [
    "import pandas as pd\n",
    "\n",
    "# Load data\n",
    "df_selected = pd.read_excel('modified_data.xlsx')\n",
    "\n",
    "# Define feature weights for each department\n",
    "weights = {\n",
    "    'Administration': {'Leadership': 0.25, 'Communication Skills': 0.20, 'Emotional Intelligence': 0.20, 'Decision-Making': 0.15, 'Teamwork': 0.10, 'Education Level': 0.05, 'Problem-Solving Skills': 0.05, 'Creativity': 0, 'Technical Proficiency': 0, 'Self-Motivation': 0},\n",
    "    'Sales': {'Communication Skills': 0.25, 'Emotional Intelligence': 0.20, 'Self-Motivation': 0.20, 'Creativity': 0.15, 'Teamwork': 0.10, 'Education Level': 0.05, 'Problem-Solving Skills': 0.05, 'Leadership': 0, 'Technical Proficiency': 0, 'Decision-Making': 0},\n",
    "    'Development': {'Technical Proficiency': 0.25, 'Problem-Solving Skills': 0.20, 'Creativity': 0.15, 'Teamwork': 0.10, 'Decision-Making': 0.15, 'Education Level': 0.05, 'Emotional Intelligence': 0.05, 'Leadership': 0, 'Communication Skills': 0, 'Self-Motivation': 0.05},\n",
    "    'Data Science': {'Technical Proficiency': 0.25, 'Problem-Solving Skills': 0.20, 'Creativity': 0.20, 'Education Level': 0.15, 'Decision-Making': 0.10, 'Teamwork': 0.05, 'Emotional Intelligence': 0.05, 'Leadership': 0, 'Communication Skills': 0, 'Self-Motivation': 0},\n",
    "    'Research & Development': {'Technical Proficiency': 0.25, 'Problem-Solving Skills': 0.20, 'Creativity': 0.20, 'Teamwork': 0.15, 'Education Level': 0.10, 'Decision-Making': 0.05, 'Emotional Intelligence': 0.05, 'Leadership': 0, 'Communication Skills': 0, 'Self-Motivation': 0}\n",
    "}\n"
   ],
   "metadata": {
    "collapsed": false,
    "ExecuteTime": {
     "end_time": "2024-10-27T09:52:29.262466Z",
     "start_time": "2024-10-27T09:52:29.107563Z"
    }
   },
   "id": "eecc56fe083bfb81",
   "outputs": [],
   "execution_count": 174
  },
  {
   "cell_type": "markdown",
   "source": [
    "### 2.Calculate suitability scores for each department"
   ],
   "metadata": {
    "collapsed": false
   },
   "id": "1f1d4f8af6e21ee6"
  },
  {
   "cell_type": "code",
   "source": [
    "for department, dept_weights in weights.items():\n",
    "    df_selected[f'{department}_Score'] = df_selected.apply(lambda row: sum(row[feature] * weight for feature, weight in dept_weights.items()), axis=1)"
   ],
   "metadata": {
    "collapsed": false,
    "ExecuteTime": {
     "end_time": "2024-10-27T09:52:31.740755Z",
     "start_time": "2024-10-27T09:52:31.649201Z"
    }
   },
   "id": "7a34f14f6aba963f",
   "outputs": [],
   "execution_count": 175
  },
  {
   "cell_type": "markdown",
   "source": [
    "### 3.Determine the most suitable department for each employee"
   ],
   "metadata": {
    "collapsed": false
   },
   "id": "43e15ba13e1c986d"
  },
  {
   "cell_type": "code",
   "source": [
    "df_selected['recommended_department'] = df_selected.apply(lambda row: max(weights.keys(), key=lambda dept: row[f'{dept}_Score']), axis=1)"
   ],
   "metadata": {
    "collapsed": false,
    "ExecuteTime": {
     "end_time": "2024-10-27T09:52:35.311854Z",
     "start_time": "2024-10-27T09:52:35.299135Z"
    }
   },
   "id": "d01cbc6ec8c2f2d3",
   "outputs": [],
   "execution_count": 176
  },
  {
   "cell_type": "markdown",
   "source": [
    "### 4.Print scores and recommended department for the first 10 employees"
   ],
   "metadata": {
    "collapsed": false
   },
   "id": "fa56a0b197b56d95"
  },
  {
   "cell_type": "code",
   "source": [
    "columns_to_display = [ 'Education Level', 'Leadership', 'Communication Skills', 'Self-Motivation', 'Problem-Solving Skills', 'Technical Proficiency', 'Emotional Intelligence', 'Creativity', 'Teamwork', 'Decision-Making'] + [f'{department}_Score' for department in weights.keys()] + ['recommended_department']\n",
    "print(df_selected[columns_to_display].head(10))"
   ],
   "metadata": {
    "collapsed": false,
    "ExecuteTime": {
     "end_time": "2024-10-27T09:52:48.797784Z",
     "start_time": "2024-10-27T09:52:48.783157Z"
    }
   },
   "id": "da6b4fe635d245d7",
   "outputs": [
    {
     "name": "stdout",
     "output_type": "stream",
     "text": [
      "   Education Level  Leadership  Communication Skills  Self-Motivation  \\\n",
      "0                3           4                     3                3   \n",
      "1                4           4                     2                3   \n",
      "2                4           4                     2                2   \n",
      "3                4           2                     3                2   \n",
      "4                4           1                     4                3   \n",
      "5                2           4                     2                3   \n",
      "6                4           4                     3                3   \n",
      "7                2           1                     3                1   \n",
      "8                3           1                     3                4   \n",
      "9                3           3                     4                3   \n",
      "\n",
      "   Problem-Solving Skills  Technical Proficiency  Emotional Intelligence  \\\n",
      "0                       2                      4                       1   \n",
      "1                       2                      1                       1   \n",
      "2                       3                      1                       4   \n",
      "3                       4                      4                       1   \n",
      "4                       2                      1                       1   \n",
      "5                       3                      1                       1   \n",
      "6                       1                      2                       1   \n",
      "7                       1                      2                       4   \n",
      "8                       3                      1                       1   \n",
      "9                       3                      3                       4   \n",
      "\n",
      "   Creativity  Teamwork  Decision-Making  Administration_Score  Sales_Score  \\\n",
      "0           4         2                1                  2.40         2.60   \n",
      "1           4         3                1                  2.35         2.50   \n",
      "2           3         3                1                  3.00         2.80   \n",
      "3           2         2                1                  2.05         2.25   \n",
      "4           4         3                1                  2.00         3.00   \n",
      "5           3         2                1                  2.20         2.20   \n",
      "6           4         3                1                  2.50         2.70   \n",
      "7           4         3                4                  2.70         2.80   \n",
      "8           1         3                1                  1.80         2.50   \n",
      "9           4         4                1                  3.20         3.70   \n",
      "\n",
      "   Development_Score  Data Science_Score  Research & Development_Score  \\\n",
      "0               2.70                2.90                          2.90   \n",
      "1               2.10                2.35                          2.40   \n",
      "2               2.25                2.50                          2.55   \n",
      "3               2.80                3.05                          3.00   \n",
      "4               2.10                2.35                          2.40   \n",
      "5               1.95                2.00                          2.05   \n",
      "6               2.15                2.40                          2.45   \n",
      "7               2.55                2.55                          2.55   \n",
      "8               1.85                1.80                          1.90   \n",
      "9               3.00                3.10                          3.30   \n",
      "\n",
      "  recommended_department  \n",
      "0           Data Science  \n",
      "1                  Sales  \n",
      "2         Administration  \n",
      "3           Data Science  \n",
      "4                  Sales  \n",
      "5         Administration  \n",
      "6                  Sales  \n",
      "7                  Sales  \n",
      "8                  Sales  \n",
      "9                  Sales  \n"
     ]
    }
   ],
   "execution_count": 178
  },
  {
   "cell_type": "code",
   "source": [
    "import pandas as pd\n",
    "import numpy as np\n",
    "\n",
    "# Assume that your data frame df_selected contains the ratings and characteristics data of each employee\n",
    "#Create a sample data frame\n",
    "data = {\n",
    "    'employee_id': [1, 2, 3],\n",
    "    'score': [75, 80, 85],\n",
    "    'Leadership': [3, 4, 5],\n",
    "    'Communication Skills': [4, 3, 4],\n",
    "    'Self-Motivation': [5, 4, 3],\n",
    "    'Problem-Solving Skills': [3, 4, 5],\n",
    "    'Technical Proficiency': [4, 3, 4],\n",
    "    'Emotional Intelligence': [5, 4, 3],\n",
    "    'Creativity': [3, 4, 5],\n",
    "    'Teamwork': [4, 3, 4],\n",
    "    'Decision-Making': [5, 4, 3]\n",
    "}\n",
    "\n",
    "df_selected = pd.DataFrame(data)\n",
    "\n",
    "# Generate 12 months dates\n",
    "months = pd.date_range(start='2023-01-01', periods=12, freq='M')\n",
    "\n",
    "expanded_data = []\n",
    "for _, row in df_selected.iterrows():\n",
    "    for month in months:\n",
    "        expanded_row = row.copy()\n",
    "        expanded_row['date'] = month\n",
    "        expanded_data.append(expanded_row)\n",
    "\n",
    "df_monthly = pd.DataFrame(expanded_data)\n",
    "\n",
    "np.random.seed(42)\n",
    "df_monthly['score'] = df_monthly['score'].apply(lambda x: x + np.random.randint(-5, 6))\n",
    "\n",
    "#Print the generated monthly data\n",
    "print(df_monthly.head(24))  "
   ],
   "metadata": {
    "collapsed": false,
    "ExecuteTime": {
     "end_time": "2024-10-27T09:53:25.822503Z",
     "start_time": "2024-10-27T09:53:25.802073Z"
    }
   },
   "id": "4a71d63907901e49",
   "outputs": [
    {
     "name": "stdout",
     "output_type": "stream",
     "text": [
      "   employee_id  score  Leadership  Communication Skills  Self-Motivation  \\\n",
      "0            1     76           3                     4                5   \n",
      "0            1     73           3                     4                5   \n",
      "0            1     80           3                     4                5   \n",
      "0            1     77           3                     4                5   \n",
      "0            1     74           3                     4                5   \n",
      "0            1     76           3                     4                5   \n",
      "0            1     79           3                     4                5   \n",
      "0            1     72           3                     4                5   \n",
      "0            1     76           3                     4                5   \n",
      "0            1     80           3                     4                5   \n",
      "0            1     80           3                     4                5   \n",
      "0            1     77           3                     4                5   \n",
      "1            2     79           4                     3                4   \n",
      "1            2     78           4                     3                4   \n",
      "1            2     82           4                     3                4   \n",
      "1            2     82           4                     3                4   \n",
      "1            2     77           4                     3                4   \n",
      "1            2     80           4                     3                4   \n",
      "1            2     79           4                     3                4   \n",
      "1            2     76           4                     3                4   \n",
      "1            2     82           4                     3                4   \n",
      "1            2     80           4                     3                4   \n",
      "1            2     76           4                     3                4   \n",
      "1            2     79           4                     3                4   \n",
      "\n",
      "   Problem-Solving Skills  Technical Proficiency  Emotional Intelligence  \\\n",
      "0                       3                      4                       5   \n",
      "0                       3                      4                       5   \n",
      "0                       3                      4                       5   \n",
      "0                       3                      4                       5   \n",
      "0                       3                      4                       5   \n",
      "0                       3                      4                       5   \n",
      "0                       3                      4                       5   \n",
      "0                       3                      4                       5   \n",
      "0                       3                      4                       5   \n",
      "0                       3                      4                       5   \n",
      "0                       3                      4                       5   \n",
      "0                       3                      4                       5   \n",
      "1                       4                      3                       4   \n",
      "1                       4                      3                       4   \n",
      "1                       4                      3                       4   \n",
      "1                       4                      3                       4   \n",
      "1                       4                      3                       4   \n",
      "1                       4                      3                       4   \n",
      "1                       4                      3                       4   \n",
      "1                       4                      3                       4   \n",
      "1                       4                      3                       4   \n",
      "1                       4                      3                       4   \n",
      "1                       4                      3                       4   \n",
      "1                       4                      3                       4   \n",
      "\n",
      "   Creativity  Teamwork  Decision-Making       date  \n",
      "0           3         4                5 2023-01-31  \n",
      "0           3         4                5 2023-02-28  \n",
      "0           3         4                5 2023-03-31  \n",
      "0           3         4                5 2023-04-30  \n",
      "0           3         4                5 2023-05-31  \n",
      "0           3         4                5 2023-06-30  \n",
      "0           3         4                5 2023-07-31  \n",
      "0           3         4                5 2023-08-31  \n",
      "0           3         4                5 2023-09-30  \n",
      "0           3         4                5 2023-10-31  \n",
      "0           3         4                5 2023-11-30  \n",
      "0           3         4                5 2023-12-31  \n",
      "1           4         3                4 2023-01-31  \n",
      "1           4         3                4 2023-02-28  \n",
      "1           4         3                4 2023-03-31  \n",
      "1           4         3                4 2023-04-30  \n",
      "1           4         3                4 2023-05-31  \n",
      "1           4         3                4 2023-06-30  \n",
      "1           4         3                4 2023-07-31  \n",
      "1           4         3                4 2023-08-31  \n",
      "1           4         3                4 2023-09-30  \n",
      "1           4         3                4 2023-10-31  \n",
      "1           4         3                4 2023-11-30  \n",
      "1           4         3                4 2023-12-31  \n"
     ]
    }
   ],
   "execution_count": 179
  },
  {
   "metadata": {
    "ExecuteTime": {
     "end_time": "2024-10-27T09:53:39.740183Z",
     "start_time": "2024-10-27T09:53:39.732908Z"
    }
   },
   "cell_type": "code",
   "source": [
    "# 将df_monthly保存为CSV文件，文件名可以根据需要修改\n",
    "df_monthly.to_csv('output_data.csv', index=False)\n"
   ],
   "id": "f22cca36bb74911d",
   "outputs": [],
   "execution_count": 180
  },
  {
   "metadata": {
    "ExecuteTime": {
     "end_time": "2024-10-27T09:53:46.820049Z",
     "start_time": "2024-10-27T09:53:41.528807Z"
    }
   },
   "cell_type": "code",
   "source": [
    "from sklearn.preprocessing import MinMaxScaler\n",
    "from keras.models import Sequential\n",
    "from keras.layers import LSTM, Dense, Input\n",
    "import numpy as np\n",
    "\n",
    "# Step 3: Normalize data and prepare training data\n",
    "employee_id = 1\n",
    "employee_data = df_monthly[df_monthly['employee_id'] == employee_id]['score'].values\n",
    "\n",
    "# Ensure there is enough data for training\n",
    "if len(employee_data) < 12:\n",
    "    raise ValueError(\"Not enough data to perform time series prediction\")\n",
    "\n",
    "# Normalize the data\n",
    "scaler = MinMaxScaler(feature_range=(0, 1))\n",
    "employee_data = scaler.fit_transform(employee_data.reshape(-1, 1))\n",
    "\n",
    "X_train, y_train = [], []\n",
    "n_future = 1\n",
    "n_past = 11\n",
    "\n",
    "# Generate training data\n",
    "for i in range(n_past, len(employee_data) - n_future + 1):\n",
    "    X_train.append(employee_data[i - n_past:i, 0])\n",
    "    y_train.append(employee_data[i + n_future - 1:i + n_future, 0])\n",
    "\n",
    "X_train, y_train = np.array(X_train), np.array(y_train)\n",
    "\n",
    "# Debugging: Print shapes and contents before reshaping\n",
    "print(\"Contents of X_train:\", X_train)\n",
    "print(\"Shape of X_train before reshaping:\", X_train.shape)\n",
    "print(\"Contents of y_train:\", y_train)\n",
    "print(\"Shape of y_train:\", y_train.shape)\n",
    "\n",
    "# Ensure X_train has the correct shape\n",
    "if len(X_train.shape) == 2:\n",
    "    X_train = np.reshape(X_train, (X_train.shape[0], X_train.shape[1], 1))\n",
    "else:\n",
    "    raise ValueError(f\"X_train does not have the expected shape for reshaping. Shape found: {X_train.shape}\")\n",
    "\n",
    "# Debugging: Print shapes after reshaping\n",
    "print(\"Shape of X_train after reshaping:\", X_train.shape)\n",
    "\n",
    "# Step 4: Build and train the LSTM model\n",
    "model = Sequential()\n",
    "\n",
    "# Use Input layer to define input shape\n",
    "model.add(Input(shape=(X_train.shape[1], 1)))\n",
    "\n",
    "# Add LSTM layers\n",
    "model.add(LSTM(units=50, return_sequences=True))\n",
    "model.add(LSTM(units=50))\n",
    "\n",
    "# Add output layer\n",
    "model.add(Dense(1))\n",
    "\n",
    "# Compile the model\n",
    "model.compile(optimizer='adam', loss='mean_squared_error')\n",
    "\n",
    "# Train the model\n",
    "model.fit(X_train, y_train, epochs=20, batch_size=1, verbose=2)\n",
    "\n",
    "# Step 5: Prepare test data and make predictions\n",
    "test_data = employee_data[-n_past:].reshape(1, n_past, 1)\n",
    "\n",
    "# Predict the score for the next month\n",
    "predicted_score = model.predict(test_data)\n",
    "predicted_score = scaler.inverse_transform(predicted_score)\n",
    "\n",
    "# Step 6: Print the predicted score for the next month\n",
    "print(f'Predicted score for the next month: {predicted_score[0][0]:.2f}')\n",
    "\n"
   ],
   "id": "93bef9583f720eba",
   "outputs": [
    {
     "name": "stdout",
     "output_type": "stream",
     "text": [
      "Contents of X_train: [[0.5   0.125 1.    0.625 0.25  0.5   0.875 0.    0.5   1.    1.   ]]\n",
      "Shape of X_train before reshaping: (1, 11)\n",
      "Contents of y_train: [[0.625]]\n",
      "Shape of y_train: (1, 1)\n",
      "Shape of X_train after reshaping: (1, 11, 1)\n",
      "Epoch 1/20\n",
      "1/1 - 1s - 1s/step - loss: 0.3832\n",
      "Epoch 2/20\n",
      "1/1 - 0s - 16ms/step - loss: 0.3237\n",
      "Epoch 3/20\n",
      "1/1 - 0s - 16ms/step - loss: 0.2693\n",
      "Epoch 4/20\n",
      "1/1 - 0s - 16ms/step - loss: 0.2192\n",
      "Epoch 5/20\n",
      "1/1 - 0s - 16ms/step - loss: 0.1728\n",
      "Epoch 6/20\n",
      "1/1 - 0s - 16ms/step - loss: 0.1299\n",
      "Epoch 7/20\n",
      "1/1 - 0s - 16ms/step - loss: 0.0910\n",
      "Epoch 8/20\n",
      "1/1 - 0s - 17ms/step - loss: 0.0568\n",
      "Epoch 9/20\n",
      "1/1 - 0s - 15ms/step - loss: 0.0287\n",
      "Epoch 10/20\n",
      "1/1 - 0s - 16ms/step - loss: 0.0090\n",
      "Epoch 11/20\n",
      "1/1 - 0s - 16ms/step - loss: 2.5007e-04\n",
      "Epoch 12/20\n",
      "1/1 - 0s - 16ms/step - loss: 0.0041\n",
      "Epoch 13/20\n",
      "1/1 - 0s - 15ms/step - loss: 0.0177\n",
      "Epoch 14/20\n",
      "1/1 - 0s - 16ms/step - loss: 0.0314\n",
      "Epoch 15/20\n",
      "1/1 - 0s - 16ms/step - loss: 0.0369\n",
      "Epoch 16/20\n",
      "1/1 - 0s - 12ms/step - loss: 0.0335\n",
      "Epoch 17/20\n",
      "1/1 - 0s - 16ms/step - loss: 0.0248\n",
      "Epoch 18/20\n",
      "1/1 - 0s - 16ms/step - loss: 0.0150\n",
      "Epoch 19/20\n",
      "1/1 - 0s - 16ms/step - loss: 0.0070\n",
      "Epoch 20/20\n",
      "1/1 - 0s - 16ms/step - loss: 0.0021\n",
      "\u001B[1m1/1\u001B[0m \u001B[32m━━━━━━━━━━━━━━━━━━━━\u001B[0m\u001B[37m\u001B[0m \u001B[1m0s\u001B[0m 149ms/step\n",
      "Predicted score for the next month: 77.27\n"
     ]
    }
   ],
   "execution_count": 181
  },
  {
   "cell_type": "code",
   "source": [
    "from sklearn.preprocessing import MinMaxScaler\n",
    "from keras.models import Sequential\n",
    "from keras.layers import LSTM, Dense\n",
    "\n",
    "\n",
    "\n",
    "# Step 3: Normalize data and prepare training data\n",
    "employee_id = 1\n",
    "employee_data = df_monthly[df_monthly['employee_id'] == employee_id]['score'].values\n",
    "\n",
    "# Ensure there is enough data for training\n",
    "if len(employee_data) < 12:\n",
    "    raise ValueError(\"Not enough data to perform time series prediction\")\n",
    "\n",
    "# Normalize the data\n",
    "scaler = MinMaxScaler(feature_range=(0, 1))\n",
    "employee_data = scaler.fit_transform(employee_data.reshape(-1, 1))\n",
    "\n",
    "X_train, y_train = [], []\n",
    "n_future = 1\n",
    "n_past = 11\n",
    "\n",
    "# Generate training data\n",
    "for i in range(n_past, len(employee_data) - n_future + 1):\n",
    "    X_train.append(employee_data[i - n_past:i, 0])\n",
    "    y_train.append(employee_data[i + n_future - 1:i + n_future, 0])\n",
    "\n",
    "X_train, y_train = np.array(X_train), np.array(y_train)\n",
    "\n",
    "# Debugging: Print shapes and contents before reshaping\n",
    "print(\"Contents of X_train:\", X_train)\n",
    "print(\"Shape of X_train before reshaping:\", X_train.shape)\n",
    "print(\"Contents of y_train:\", y_train)\n",
    "print(\"Shape of y_train:\", y_train.shape)\n",
    "\n",
    "# Ensure X_train has the correct shape\n",
    "if len(X_train.shape) == 2:\n",
    "    X_train = np.reshape(X_train, (X_train.shape[0], X_train.shape[1], 1))\n",
    "else:\n",
    "    raise ValueError(f\"X_train does not have the expected shape for reshaping. Shape found: {X_train.shape}\")\n",
    "\n",
    "# Debugging: Print shapes after reshaping\n",
    "print(\"Shape of X_train after reshaping:\", X_train.shape)\n",
    "\n",
    "# Step 4: Build and train the LSTM model\n",
    "model = Sequential()\n",
    "model.add(LSTM(units=50, return_sequences=True, input_shape=(X_train.shape[1], 1)))\n",
    "model.add(LSTM(units=50))\n",
    "model.add(Dense(1))\n",
    "\n",
    "model.compile(optimizer='adam', loss='mean_squared_error')\n",
    "\n",
    "model.fit(X_train, y_train, epochs=20, batch_size=1, verbose=2)\n",
    "\n",
    "# Step 5: Prepare test data and make predictions\n",
    "test_data = employee_data[-n_past:].reshape(1, n_past, 1)\n",
    "\n",
    "predicted_score = model.predict(test_data)\n",
    "predicted_score = scaler.inverse_transform(predicted_score)\n",
    "\n",
    "# Step 6: Print the predicted score for the next month\n",
    "print(f'Predicted score for the next month: {predicted_score[0][0]:.2f}')"
   ],
   "metadata": {
    "collapsed": false,
    "ExecuteTime": {
     "end_time": "2024-10-25T03:50:18.393381Z",
     "start_time": "2024-10-25T03:50:16.222958Z"
    }
   },
   "id": "a98c80b7e35495a4",
   "outputs": [
    {
     "name": "stdout",
     "output_type": "stream",
     "text": [
      "Contents of X_train: [[0.5   0.125 1.    0.625 0.25  0.5   0.875 0.    0.5   1.    1.   ]]\n",
      "Shape of X_train before reshaping: (1, 11)\n",
      "Contents of y_train: [[0.625]]\n",
      "Shape of y_train: (1, 1)\n",
      "Shape of X_train after reshaping: (1, 11, 1)\n",
      "Epoch 1/20\n"
     ]
    },
    {
     "name": "stderr",
     "output_type": "stream",
     "text": [
      "D:\\Software\\Anacoda\\Lib\\site-packages\\keras\\src\\layers\\rnn\\rnn.py:204: UserWarning: Do not pass an `input_shape`/`input_dim` argument to a layer. When using Sequential models, prefer using an `Input(shape)` object as the first layer in the model instead.\n",
      "  super().__init__(**kwargs)\n"
     ]
    },
    {
     "name": "stdout",
     "output_type": "stream",
     "text": [
      "1/1 - 2s - 2s/step - loss: 0.4688\n",
      "Epoch 2/20\n",
      "1/1 - 0s - 16ms/step - loss: 0.4085\n",
      "Epoch 3/20\n",
      "1/1 - 0s - 16ms/step - loss: 0.3543\n",
      "Epoch 4/20\n",
      "1/1 - 0s - 16ms/step - loss: 0.3049\n",
      "Epoch 5/20\n",
      "1/1 - 0s - 16ms/step - loss: 0.2594\n",
      "Epoch 6/20\n",
      "1/1 - 0s - 16ms/step - loss: 0.2168\n",
      "Epoch 7/20\n",
      "1/1 - 0s - 16ms/step - loss: 0.1769\n",
      "Epoch 8/20\n",
      "1/1 - 0s - 16ms/step - loss: 0.1393\n",
      "Epoch 9/20\n",
      "1/1 - 0s - 18ms/step - loss: 0.1042\n",
      "Epoch 10/20\n",
      "1/1 - 0s - 12ms/step - loss: 0.0720\n",
      "Epoch 11/20\n",
      "1/1 - 0s - 16ms/step - loss: 0.0436\n",
      "Epoch 12/20\n",
      "1/1 - 0s - 20ms/step - loss: 0.0207\n",
      "Epoch 13/20\n",
      "1/1 - 0s - 16ms/step - loss: 0.0053\n",
      "Epoch 14/20\n",
      "1/1 - 0s - 16ms/step - loss: 7.0920e-06\n",
      "Epoch 15/20\n",
      "1/1 - 0s - 16ms/step - loss: 0.0060\n",
      "Epoch 16/20\n",
      "1/1 - 0s - 16ms/step - loss: 0.0199\n",
      "Epoch 17/20\n",
      "1/1 - 0s - 16ms/step - loss: 0.0323\n",
      "Epoch 18/20\n",
      "1/1 - 0s - 16ms/step - loss: 0.0364\n",
      "Epoch 19/20\n",
      "1/1 - 0s - 16ms/step - loss: 0.0323\n",
      "Epoch 20/20\n",
      "1/1 - 0s - 16ms/step - loss: 0.0235\n",
      "\u001B[1m1/1\u001B[0m \u001B[32m━━━━━━━━━━━━━━━━━━━━\u001B[0m\u001B[37m\u001B[0m \u001B[1m0s\u001B[0m 157ms/step\n",
      "Predicted score for the next month: 78.14\n"
     ]
    }
   ],
   "execution_count": 89
  },
  {
   "cell_type": "code",
   "source": [
    "# Debugging: Check the length of employee_data\n",
    "print(f\"Length of employee_data: {len(employee_data)}\")\n",
    "\n",
    "X_train, y_train = [], []\n",
    "n_future = 1\n",
    "n_past = 11\n",
    "\n",
    "# Generate training data\n",
    "if len(employee_data) < (n_past + n_future):\n",
    "    raise ValueError(\"Not enough data to generate training samples\")\n",
    "\n",
    "for i in range(n_past, len(employee_data) - n_future + 1):\n",
    "    X_train.append(employee_data[i - n_past:i, 0])\n",
    "    y_train.append(employee_data[i + n_future - 1:i + n_future, 0])\n",
    "\n",
    "X_train, y_train = np.array(X_train), np.array(y_train)\n",
    "\n",
    "# Check the shape after generation\n",
    "print(f\"Shape of X_train: {X_train.shape}\")\n",
    "print(f\"Shape of y_train: {y_train.shape}\")\n"
   ],
   "metadata": {
    "collapsed": false,
    "ExecuteTime": {
     "end_time": "2024-10-25T03:58:23.863786Z",
     "start_time": "2024-10-25T03:58:23.854899Z"
    }
   },
   "id": "182d7564ed70d428",
   "outputs": [
    {
     "name": "stdout",
     "output_type": "stream",
     "text": [
      "Length of employee_data: 12\n",
      "Shape of X_train: (1, 11)\n",
      "Shape of y_train: (1, 1)\n"
     ]
    }
   ],
   "execution_count": 124
  }
 ],
 "metadata": {
  "kernelspec": {
   "display_name": "Python 3",
   "language": "python",
   "name": "python3"
  },
  "language_info": {
   "codemirror_mode": {
    "name": "ipython",
    "version": 2
   },
   "file_extension": ".py",
   "mimetype": "text/x-python",
   "name": "python",
   "nbconvert_exporter": "python",
   "pygments_lexer": "ipython2",
   "version": "2.7.6"
  }
 },
 "nbformat": 4,
 "nbformat_minor": 5
}
